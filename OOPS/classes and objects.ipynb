{
 "cells": [
  {
   "cell_type": "code",
   "execution_count": 20,
   "id": "8901be74",
   "metadata": {},
   "outputs": [
    {
     "name": "stdout",
     "output_type": "stream",
     "text": [
      "123345 \t 32 \t Android\n",
      "Android Version 14.2\n",
      "1982479 \t 16 \t IOS\n",
      "IOS Version 10\n",
      "\n",
      "\n",
      "123321 \t 32 \t None\n",
      "123321 \t 32 \t IOS\n"
     ]
    }
   ],
   "source": [
    "class Mobile:\n",
    "    def __init__(self, imei, ram, os) -> None:\n",
    "        self.imei = imei\n",
    "        self.ram = ram\n",
    "        self.os = os\n",
    "\n",
    "    def copy(self, mobile_obj):\n",
    "        self.os = mobile_obj.os\n",
    "\n",
    "    def print_base(self):\n",
    "        print(self.imei, \"\\t\", self.ram, \"\\t\", self.os)\n",
    "\n",
    "\n",
    "class Samsung(Mobile):\n",
    "    def __init__(self, imei, ram, os, android_version, ) -> None:\n",
    "        super().__init__(imei, ram, os)\n",
    "        self.android_version = android_version\n",
    "\n",
    "    def print_details(self):\n",
    "        print(\"Android Version\", self.android_version)\n",
    "\n",
    "\n",
    "class IPhone(Mobile):\n",
    "    def __init__(self, imei, ram, os, ios_version, ) -> None:\n",
    "        super().__init__(imei, ram, os)\n",
    "        self.ios_version = ios_version\n",
    "\n",
    "    def print_details(self):\n",
    "        print(\"IOS Version\", self.ios_version)\n",
    "\n",
    "\n",
    "# same object points to different memory location\n",
    "m1 = Samsung(123345, 32, \"Android\", 14.2)\n",
    "m1.print_base()\n",
    "m1.print_details()\n",
    "\n",
    "m1 = IPhone(1982479, 16, \"IOS\", 10)\n",
    "\n",
    "m1.print_base()\n",
    "m1.print_details()\n",
    "\n",
    "print(\"\\n\")\n",
    "m2 = Mobile(123321, 32, None)\n",
    "m2.print_base()\n",
    "m2.copy(m1)\n",
    "m2.print_base()"
   ]
  },
  {
   "cell_type": "code",
   "execution_count": 1,
   "id": "5a821870",
   "metadata": {},
   "outputs": [
    {
     "name": "stdout",
     "output_type": "stream",
     "text": [
      "iphone\n",
      "samsung\n"
     ]
    }
   ],
   "source": [
    "# polymorphism\n",
    "class iphone:\n",
    "    def display(s):\n",
    "        print(s)\n",
    "class samsung:\n",
    "    def display(s):\n",
    "        print(s)\n",
    "i = iphone\n",
    "sam = samsung\n",
    "i.display(\"iphone\")\n",
    "sam.display(\"samsung\")"
   ]
  },
  {
   "cell_type": "code",
   "execution_count": 19,
   "id": "33937826",
   "metadata": {},
   "outputs": [
    {
     "name": "stdout",
     "output_type": "stream",
     "text": [
      "10000\n"
     ]
    }
   ],
   "source": [
    "# constructor\n",
    "class Base:\n",
    "    def __init__(self, samsungcost):\n",
    "        self.samsungcost = samsungcost\n",
    "\n",
    "    def display(self):\n",
    "        print(self.samsungcost)\n",
    "\n",
    "b = Base(10000)  \n",
    "b.display()  "
   ]
  },
  {
   "cell_type": "code",
   "execution_count": 9,
   "id": "6e2a6a47",
   "metadata": {},
   "outputs": [
    {
     "name": "stdout",
     "output_type": "stream",
     "text": [
      "100000\n",
      "20000\n"
     ]
    }
   ],
   "source": [
    "# inheritance\n",
    "class Base:\n",
    "    samsungcost = \"20000\"\n",
    "    iphonecost = \"100000\"\n",
    "        \n",
    "class iphone(Base):\n",
    "    def display(self):\n",
    "        print(self.iphonecost)\n",
    "        \n",
    "class samsung(Base):\n",
    "    def display(self):\n",
    "        print(self.samsungcost)\n",
    "\n",
    "ip = Base()\n",
    "ip = iphone()\n",
    "ip.display()\n",
    "\n",
    "ip = samsung()\n",
    "ip.display()"
   ]
  },
  {
   "cell_type": "code",
   "execution_count": 10,
   "id": "7e4cfc94",
   "metadata": {},
   "outputs": [
    {
     "name": "stdout",
     "output_type": "stream",
     "text": [
      "AK 1000\n",
      "AK 700\n"
     ]
    }
   ],
   "source": [
    "# Make a class that represents a bank account. Create four methods named set_details, display, withdraw and deposit.\n",
    "\n",
    "# In the set_details method, create two instance variables : name and balance. The default value for balance should be zero. In the display method, display the values of these two instance variables.\n",
    "\n",
    "# Both the methods withdraw and deposit have amount as parameter. Inside withdraw, subtract the amount from balance and inside deposit, add the amount to the balance.\n",
    "\n",
    "# Create two instances of this class and call the methods on those instances.\n",
    "\n",
    "class bank:\n",
    "    def set_details(self,name,balance = 0):\n",
    "        self.name = name\n",
    "        self.balance = balance\n",
    "    def display(self):\n",
    "        print(self.name,self.balance)\n",
    "    def withdraw(self,amount):\n",
    "        self.balance = self.balance - amount\n",
    "    def deposit(self,amount):\n",
    "        self.balance = self.balance + amount\n",
    "b1 = bank()\n",
    "b1.set_details(\"AK\",1000)\n",
    "b1.display()\n",
    "b1.withdraw(500)\n",
    "b1.deposit(200)\n",
    "b1.display()"
   ]
  },
  {
   "cell_type": "code",
   "execution_count": 12,
   "id": "8e9584d6",
   "metadata": {},
   "outputs": [
    {
     "name": "stdout",
     "output_type": "stream",
     "text": [
      "Mike 200\n",
      "Mike 100\n"
     ]
    }
   ],
   "source": [
    "# create an __init__ method.\n",
    "\n",
    "class BankAccount:\n",
    "    def __init__(self, name, balance=0):\n",
    "        self.name = name\n",
    "        self.balance = balance\n",
    " \n",
    "    def display(self):\n",
    "         print(self.name, self.balance)\n",
    " \n",
    "    def withdraw(self, amount):\n",
    "        self.balance -= amount\n",
    " \n",
    "    def deposit(self, amount):\n",
    "        self.balance += amount\n",
    "    \n",
    "a1 = BankAccount('Mike', 200)\n",
    " \n",
    "a1.display()\n",
    " \n",
    "a1.withdraw(100)\n",
    " \n",
    "a1.display()"
   ]
  },
  {
   "cell_type": "code",
   "execution_count": 6,
   "id": "831a01e8",
   "metadata": {},
   "outputs": [
    {
     "name": "stdout",
     "output_type": "stream",
     "text": [
      "12-32-11-23 Life is shit AK AK publishers 290 2900 2000\n"
     ]
    }
   ],
   "source": [
    "# Create a class named Book with an __init__ method. Inside the __init__ method, create the instance variables isbn, \n",
    "# title, author, publisher, pages, price, copies.\n",
    "class Book:\n",
    "    def __init__(self,isbn,title,author,publisher,pages,price,copies):\n",
    "        self.isbn = isbn\n",
    "        self.title = title\n",
    "        self.author = author\n",
    "        self.publisher = publisher\n",
    "        self.pages = pages\n",
    "        self.price = price\n",
    "        self.copies = copies\n",
    "        \n",
    "    def display(self):\n",
    "        print(self.isbn,self.title,self.author,self.publisher,self.pages,self.price,self.copies)\n",
    "b = Book('12-32-11-23',\"Life is shit\",\"AK\",\"AK publishers\",290,2900,2000)\n",
    "b.display()"
   ]
  },
  {
   "cell_type": "code",
   "execution_count": 26,
   "id": "4a520ff0",
   "metadata": {},
   "outputs": [
    {
     "name": "stdout",
     "output_type": "stream",
     "text": [
      "12-32-11-23 Life is shit AK AK publishers 290 2900 0\n",
      "Book is out of stock\n"
     ]
    }
   ],
   "source": [
    "# For the Book class that you have created, write a method named in_stock that \n",
    "# returns True if number of copies is more than zero, otherwise it returns False.\n",
    "\n",
    "# Create another method named sell that decreases the number of copies by 1 if the book is in stock, \n",
    "# otherwise it prints the message that the book is out of stock\n",
    "\n",
    "class Book:\n",
    "    def __init__(self,isbn,title,author,publisher,pages,price,copies):\n",
    "        self.isbn = isbn\n",
    "        self.title = title\n",
    "        self.author = author\n",
    "        self.publisher = publisher\n",
    "        self.pages = pages\n",
    "        self.price = price\n",
    "        self.copies = copies\n",
    "        \n",
    "    def display(self):\n",
    "        print(self.isbn,self.title,self.author,self.publisher,self.pages,self.price,self.copies)\n",
    "        \n",
    "    def instock(self):\n",
    "        if self.copies > 0:\n",
    "            return True\n",
    "        else:\n",
    "            return False\n",
    "        \n",
    "    def sell(self):\n",
    "        if self.instock():\n",
    "            self.copies -= 1\n",
    "        else:\n",
    "            print(\"Book is out of stock\")\n",
    "            \n",
    "b = Book('12-32-11-23',\"Life is shit\",\"AK\",\"AK publishers\",290,2900,0)\n",
    "b.display()\n",
    "b.instock()\n",
    "b.sell()"
   ]
  },
  {
   "cell_type": "code",
   "execution_count": 28,
   "id": "d6aca6e3",
   "metadata": {},
   "outputs": [
    {
     "name": "stdout",
     "output_type": "stream",
     "text": [
      "12-32-11-23 Life is shit AK AK publishers 290 2900 0\n",
      "['Life is shit']\n"
     ]
    }
   ],
   "source": [
    "# 1.Create a list named books that contains the 4 Book instance objects that you have created in question \n",
    "# 2. Iterate over this list using a for loop and call display() for each object in the list.\n",
    "\n",
    "# Write a list comprehension to create another list that contains title of books written by Jack.\n",
    "books = [b]\n",
    " \n",
    "for book in books:\n",
    "    book.display()\n",
    " \n",
    "ak_books = [book.title for book in books if book.author == 'AK']\n",
    " \n",
    "print(ak_books)"
   ]
  },
  {
   "cell_type": "code",
   "execution_count": 31,
   "id": "b9d54c6f",
   "metadata": {},
   "outputs": [
    {
     "ename": "ValueError",
     "evalue": "Price is not in the given range",
     "output_type": "error",
     "traceback": [
      "\u001b[1;31m---------------------------------------------------------------------------\u001b[0m",
      "\u001b[1;31mValueError\u001b[0m                                Traceback (most recent call last)",
      "Cell \u001b[1;32mIn[31], line 25\u001b[0m\n\u001b[0;32m     23\u001b[0m     \u001b[38;5;28;01mdef\u001b[39;00m \u001b[38;5;21mdisplay\u001b[39m(\u001b[38;5;28mself\u001b[39m):\n\u001b[0;32m     24\u001b[0m         \u001b[38;5;28mprint\u001b[39m(\u001b[38;5;28mself\u001b[39m\u001b[38;5;241m.\u001b[39misbn,\u001b[38;5;28mself\u001b[39m\u001b[38;5;241m.\u001b[39mtitle,\u001b[38;5;28mself\u001b[39m\u001b[38;5;241m.\u001b[39mauthor,\u001b[38;5;28mself\u001b[39m\u001b[38;5;241m.\u001b[39mpublisher,\u001b[38;5;28mself\u001b[39m\u001b[38;5;241m.\u001b[39mpages,\u001b[38;5;28mself\u001b[39m\u001b[38;5;241m.\u001b[39mprice,\u001b[38;5;28mself\u001b[39m\u001b[38;5;241m.\u001b[39mcopies)\n\u001b[1;32m---> 25\u001b[0m b \u001b[38;5;241m=\u001b[39m Book(\u001b[38;5;124m'\u001b[39m\u001b[38;5;124m12-32-11-23\u001b[39m\u001b[38;5;124m'\u001b[39m,\u001b[38;5;124m\"\u001b[39m\u001b[38;5;124mLife is shit\u001b[39m\u001b[38;5;124m\"\u001b[39m,\u001b[38;5;124m\"\u001b[39m\u001b[38;5;124mAK\u001b[39m\u001b[38;5;124m\"\u001b[39m,\u001b[38;5;124m\"\u001b[39m\u001b[38;5;124mAK publishers\u001b[39m\u001b[38;5;124m\"\u001b[39m,\u001b[38;5;241m290\u001b[39m,\u001b[38;5;241m10090\u001b[39m,\u001b[38;5;241m2000\u001b[39m)\n\u001b[0;32m     26\u001b[0m b\u001b[38;5;241m.\u001b[39mdisplay()\n",
      "Cell \u001b[1;32mIn[31], line 10\u001b[0m, in \u001b[0;36mBook.__init__\u001b[1;34m(self, isbn, title, author, publisher, pages, price, copies)\u001b[0m\n\u001b[0;32m      8\u001b[0m \u001b[38;5;28mself\u001b[39m\u001b[38;5;241m.\u001b[39mpublisher \u001b[38;5;241m=\u001b[39m publisher\n\u001b[0;32m      9\u001b[0m \u001b[38;5;28mself\u001b[39m\u001b[38;5;241m.\u001b[39mpages \u001b[38;5;241m=\u001b[39m pages\n\u001b[1;32m---> 10\u001b[0m \u001b[38;5;28mself\u001b[39m\u001b[38;5;241m.\u001b[39mprice \u001b[38;5;241m=\u001b[39m price\n\u001b[0;32m     11\u001b[0m \u001b[38;5;28mself\u001b[39m\u001b[38;5;241m.\u001b[39mcopies \u001b[38;5;241m=\u001b[39m copies\n",
      "Cell \u001b[1;32mIn[31], line 21\u001b[0m, in \u001b[0;36mBook.price\u001b[1;34m(self, val)\u001b[0m\n\u001b[0;32m     19\u001b[0m     \u001b[38;5;28mself\u001b[39m\u001b[38;5;241m.\u001b[39m_price \u001b[38;5;241m=\u001b[39m val\n\u001b[0;32m     20\u001b[0m \u001b[38;5;28;01melse\u001b[39;00m:\n\u001b[1;32m---> 21\u001b[0m     \u001b[38;5;28;01mraise\u001b[39;00m \u001b[38;5;167;01mValueError\u001b[39;00m(\u001b[38;5;124m\"\u001b[39m\u001b[38;5;124mPrice is not in the given range\u001b[39m\u001b[38;5;124m\"\u001b[39m)\n",
      "\u001b[1;31mValueError\u001b[0m: Price is not in the given range"
     ]
    }
   ],
   "source": [
    "# In the Book class, create a property named price such that the price of a book cannot be less than 50 or more than 1000.\n",
    "\n",
    "class Book:\n",
    "    def __init__(self,isbn,title,author,publisher,pages,price,copies):\n",
    "        self.isbn = isbn\n",
    "        self.title = title\n",
    "        self.author = author\n",
    "        self.publisher = publisher\n",
    "        self.pages = pages\n",
    "        self.price = price\n",
    "        self.copies = copies\n",
    "        \n",
    "    @property\n",
    "    def price(self):\n",
    "        return self._price\n",
    "    @price.setter\n",
    "    def price(self,val):\n",
    "        if 50<= val <= 1000:\n",
    "            self._price = val\n",
    "        else:\n",
    "            raise ValueError(\"Price is not in the given range\")\n",
    "        \n",
    "    def display(self):\n",
    "        print(self.isbn,self.title,self.author,self.publisher,self.pages,self.price,self.copies)\n",
    "b = Book('12-32-11-23',\"Life is shit\",\"AK\",\"AK publishers\",290,10090,2000)\n",
    "b.display()"
   ]
  },
  {
   "cell_type": "code",
   "execution_count": 38,
   "id": "c0803c71",
   "metadata": {},
   "outputs": [
    {
     "name": "stdout",
     "output_type": "stream",
     "text": [
      "-5.0\n"
     ]
    }
   ],
   "source": [
    "# Make a class Fraction that contains two instance variables, nr and dr (nr stands for numerator and dr for denominator). \n",
    "# Define an __init__ method that provides values for these instance variables. Make the denominator optional by providing a default argument of 1.\n",
    "\n",
    "# In the __init__ method, make the denominator positive if it is negative. \n",
    "# For example  -2/-3 should be changed to 2/3 and 2/-3 to -2/3.\n",
    "\n",
    "# Write a method named show that prints numerator, then '/' and then the denominator.\n",
    "\n",
    "class fraction:\n",
    "    \n",
    "    def __init__(self,nr,dr=1):\n",
    "        self.nr = nr\n",
    "        self.dr = dr\n",
    "        if self.dr < 0:\n",
    "            self.nr *= -1\n",
    "        else:\n",
    "            self.dr *= -1\n",
    "        \n",
    "    def result(self):\n",
    "        print(self.nr/self.dr)\n",
    "f = fraction(10,2)\n",
    "f.result()"
   ]
  },
  {
   "cell_type": "code",
   "execution_count": 40,
   "id": "23c9ec3a",
   "metadata": {},
   "outputs": [
    {
     "name": "stdout",
     "output_type": "stream",
     "text": [
      "7 14 43.96 153.86\n"
     ]
    }
   ],
   "source": [
    "# Write a Circle class with an instance variable named radius and a method named area. Create two more attributes named diameter and circumference and make them behave as read only attributes. \n",
    "\n",
    "# Perform data validation on radius, user should not be allowed to assign a negative value to it.\n",
    "\n",
    "# For a circle\n",
    "\n",
    "# diameter =  2 * radius\n",
    "\n",
    "# circumference =  2 * 3.14 * radius\n",
    "\n",
    "# area =  3.14 * radius * radius\n",
    "\n",
    "class Circle:\n",
    "    def __init__(self, radius):\n",
    "        self.radius = radius\n",
    " \n",
    "    @property\n",
    "    def radius(self):\n",
    "        return self._radius\n",
    " \n",
    "    @radius.setter\n",
    "    def radius(self, new_radius):\n",
    "        if new_radius > 0:\n",
    "            self._radius = new_radius\n",
    "        else:\n",
    "            raise ValueError('Radius should be positive')\n",
    " \n",
    "    @property\n",
    "    def diameter(self):\n",
    "        return self._radius * 2\n",
    " \n",
    "    @property\n",
    "    def circumference(self):\n",
    "        return 2 * 3.14 * self._radius\n",
    " \n",
    "    def area(self):\n",
    "        return 3.14 * self._radius * self._radius\n",
    " \n",
    "c1 = Circle(7)\n",
    "print( c1.radius, c1.diameter, c1.circumference, c1.area() )\n",
    " "
   ]
  },
  {
   "cell_type": "code",
   "execution_count": 1,
   "id": "a47d289a",
   "metadata": {},
   "outputs": [
    {
     "name": "stdout",
     "output_type": "stream",
     "text": [
      "Mike 200 PQR Bank Delhi\n",
      "Tom 0 ABC bank, XYZ Street, New Delhi\n"
     ]
    }
   ],
   "source": [
    "class BankAccount:\n",
    " \n",
    "    bank_name = 'ABC bank, XYZ Street, New Delhi'\n",
    " \n",
    "    def __init__(self, name, balance=0, bank=bank_name):\n",
    "        self.name = name\n",
    "        self.balance = balance\n",
    "        self.bank = bank\n",
    " \n",
    "    def display(self):\n",
    "         print(self.name, self.balance, self.bank)\n",
    " \n",
    "    def withdraw(self, amount):\n",
    "        self.balance -= amount\n",
    " \n",
    "    def deposit(self, amount):\n",
    "        self.balance += amount\n",
    "    \n",
    "a1 = BankAccount('Mike', 200, 'PQR Bank Delhi')\n",
    "a2 = BankAccount('Tom')\n",
    " \n",
    "a1.display()\n",
    "a2.display()\n"
   ]
  },
  {
   "cell_type": "code",
   "execution_count": 2,
   "id": "601faed9",
   "metadata": {},
   "outputs": [
    {
     "ename": "RuntimeError",
     "evalue": "Domain xmail.com is not allowed",
     "output_type": "error",
     "traceback": [
      "\u001b[1;31m---------------------------------------------------------------------------\u001b[0m",
      "\u001b[1;31mRuntimeError\u001b[0m                              Traceback (most recent call last)",
      "Cell \u001b[1;32mIn[2], line 27\u001b[0m\n\u001b[0;32m     25\u001b[0m e3 \u001b[38;5;241m=\u001b[39m Employee(\u001b[38;5;124m'\u001b[39m\u001b[38;5;124mJill\u001b[39m\u001b[38;5;124m'\u001b[39m,\u001b[38;5;124m'\u001b[39m\u001b[38;5;124mjill@outlook.com\u001b[39m\u001b[38;5;124m'\u001b[39m)\n\u001b[0;32m     26\u001b[0m e4 \u001b[38;5;241m=\u001b[39m Employee(\u001b[38;5;124m'\u001b[39m\u001b[38;5;124mTed\u001b[39m\u001b[38;5;124m'\u001b[39m,\u001b[38;5;124m'\u001b[39m\u001b[38;5;124mted@yahoo.com\u001b[39m\u001b[38;5;124m'\u001b[39m)\n\u001b[1;32m---> 27\u001b[0m e5 \u001b[38;5;241m=\u001b[39m Employee(\u001b[38;5;124m'\u001b[39m\u001b[38;5;124mTim\u001b[39m\u001b[38;5;124m'\u001b[39m,\u001b[38;5;124m'\u001b[39m\u001b[38;5;124mtim@xmail.com\u001b[39m\u001b[38;5;124m'\u001b[39m)\n\u001b[0;32m     28\u001b[0m e5\u001b[38;5;241m.\u001b[39mdisplay()\n\u001b[0;32m     30\u001b[0m e4\u001b[38;5;241m.\u001b[39memail \u001b[38;5;241m=\u001b[39m \u001b[38;5;124m'\u001b[39m\u001b[38;5;124mted@ymail.com\u001b[39m\u001b[38;5;124m'\u001b[39m\n",
      "Cell \u001b[1;32mIn[2], line 6\u001b[0m, in \u001b[0;36mEmployee.__init__\u001b[1;34m(self, name, email)\u001b[0m\n\u001b[0;32m      4\u001b[0m \u001b[38;5;28;01mdef\u001b[39;00m \u001b[38;5;21m__init__\u001b[39m(\u001b[38;5;28mself\u001b[39m,name,email):\n\u001b[0;32m      5\u001b[0m     \u001b[38;5;28mself\u001b[39m\u001b[38;5;241m.\u001b[39mname \u001b[38;5;241m=\u001b[39m name\n\u001b[1;32m----> 6\u001b[0m     \u001b[38;5;28mself\u001b[39m\u001b[38;5;241m.\u001b[39memail \u001b[38;5;241m=\u001b[39m email\n",
      "Cell \u001b[1;32mIn[2], line 21\u001b[0m, in \u001b[0;36mEmployee.email\u001b[1;34m(self, new_email)\u001b[0m\n\u001b[0;32m     19\u001b[0m     \u001b[38;5;28mself\u001b[39m\u001b[38;5;241m.\u001b[39m_email \u001b[38;5;241m=\u001b[39m new_email\n\u001b[0;32m     20\u001b[0m \u001b[38;5;28;01melse\u001b[39;00m:\n\u001b[1;32m---> 21\u001b[0m     \u001b[38;5;28;01mraise\u001b[39;00m \u001b[38;5;167;01mRuntimeError\u001b[39;00m(\u001b[38;5;124mf\u001b[39m\u001b[38;5;124m'\u001b[39m\u001b[38;5;124mDomain \u001b[39m\u001b[38;5;132;01m{\u001b[39;00mdomain\u001b[38;5;132;01m}\u001b[39;00m\u001b[38;5;124m is not allowed\u001b[39m\u001b[38;5;124m'\u001b[39m)\n",
      "\u001b[1;31mRuntimeError\u001b[0m: Domain xmail.com is not allowed"
     ]
    }
   ],
   "source": [
    "class Employee:\n",
    "    allowed_domains = {'yahoo.com', 'gmail.com', 'outlook.com'}\n",
    "    \n",
    "    def __init__(self,name,email):\n",
    "        self.name = name\n",
    "        self.email = email\n",
    "   \n",
    "    def display(self):\n",
    "        print(self.name, self.email)\n",
    " \n",
    "    @property\n",
    "    def email(self):\n",
    "        return self._email\n",
    " \n",
    "    @email.setter\n",
    "    def email(self, new_email):\n",
    "        domain = new_email[new_email.index('@')+1 : ]\n",
    "        if domain in Employee.allowed_domains:\n",
    "            self._email = new_email\n",
    "        else:\n",
    "            raise RuntimeError(f'Domain {domain} is not allowed')\n",
    "            \n",
    "e1 = Employee('John','john@gmail.com')\n",
    "e2 = Employee('Jack','jack@yahoo.com')\n",
    "e3 = Employee('Jill','jill@outlook.com')\n",
    "e4 = Employee('Ted','ted@yahoo.com')\n",
    "e5 = Employee('Tim','tim@xmail.com')\n",
    "e5.display()\n",
    " \n",
    "e4.email = 'ted@ymail.com'\n",
    "e4.display()\n",
    " \n",
    "e3.email = 'jill@gmail.com'\n",
    "e3.display()"
   ]
  },
  {
   "cell_type": "code",
   "execution_count": 5,
   "id": "5d1d236f",
   "metadata": {},
   "outputs": [
    {
     "name": "stdout",
     "output_type": "stream",
     "text": [
      "False\n",
      "True\n",
      "False\n",
      "True\n"
     ]
    }
   ],
   "source": [
    "#  In the following class, write code for the methods __eq__, __lt__, __le__.\n",
    "\n",
    "class Time:\n",
    "    def __init__(self, h, m, s):\n",
    "        self._h = h\n",
    "        self._m = m\n",
    "        self._s = s\n",
    "\n",
    "    # Read-only field accessors\n",
    "    @property\n",
    "    def hours(self):\n",
    "        return self._h\n",
    "\n",
    "    @property\n",
    "    def minutes(self):\n",
    "        return self._m\n",
    "\n",
    "    @property\n",
    "    def seconds(self):\n",
    "        return self._s\n",
    "\n",
    "    def __eq__(self,other):\n",
    "        return True if _cmp(self,other) == 0 else False\n",
    "    \n",
    "    def __lt__(self,other):\n",
    "        return True if _cmp(self,other) == 1 else False\n",
    " \n",
    "    def __le__(self,other):\n",
    "        return True if (_cmp(self,other) == 0 or _cmp(self,other) == 1) else False\n",
    "    \n",
    "t1 = Time(13, 10, 5)\n",
    "t2 = Time(5, 15, 30)\n",
    "t3 = Time(5, 15, 30)\n",
    "\n",
    "print(t1 < t2)  \n",
    "print(t1 > t2)  \n",
    "print(t1 == t2) \n",
    "print(t2 == t3) \n"
   ]
  },
  {
   "cell_type": "code",
   "execution_count": 13,
   "id": "98003f15",
   "metadata": {},
   "outputs": [
    {
     "name": "stdout",
     "output_type": "stream",
     "text": [
      "6 3\n",
      "3 0\n",
      "4 6\n",
      "4 6\n"
     ]
    }
   ],
   "source": [
    "# Implement __add__ and __radd__ methods for the following class Length.\n",
    "class Length:\n",
    "    \n",
    "    def __init__(self, feet, inches):\n",
    "        self.feet = feet  \n",
    "        self.inches = inches\n",
    " \n",
    "    def __str__(self):\n",
    "        return f'{self.feet} {self.inches}'\n",
    " \n",
    "    def __add__(self, other):\n",
    "        if isinstance(other, Length):\n",
    "            f = self.feet + other.feet\n",
    "            i = self.inches + other.inches\n",
    "            if i >= 12:\n",
    "                i -= 12\n",
    "                f += 1\n",
    "            return Length(f, i)\n",
    "        elif isinstance(other, int):\n",
    "            return self.add_inches(other)\n",
    "        else:\n",
    "            return NotImplemented\n",
    "\n",
    "    def __radd__(self, other):\n",
    "        return self.__add__(other)\n",
    "\n",
    "    def add_inches(self, inches):\n",
    "        f = self.feet + inches // 12\n",
    "        i = self.inches + inches % 12\n",
    "        if i >= 12:\n",
    "            i -= 12\n",
    "            f += 1\n",
    "        return Length(f, i)\n",
    "\n",
    "length1 = Length(2, 10)\n",
    "length2 = Length(3, 5)\n",
    "\n",
    "print(length1 + length2)  # Output: 6 3\n",
    "print(length1 + 2)  # Output: 3 10\n",
    "print(length1 + 20)  # Output: 4 6\n",
    "print(20 + length1)  # Output: 4 10\n"
   ]
  },
  {
   "cell_type": "code",
   "execution_count": 7,
   "id": "569090f6",
   "metadata": {},
   "outputs": [
    {
     "name": "stdout",
     "output_type": "stream",
     "text": [
      "Course Title :  Learn C++\n",
      "Intructor :  Jack\n",
      "Price :  50\n",
      "Number of Lectures :  30\n",
      "Users :  ['Allen', 'Max', 'Tom']\n",
      "Average rating :  4.0\n",
      "Video Length :  10\n",
      "\n",
      "Course Title :  Learn Java\n",
      "Intructor :  Jim\n",
      "Price :  50\n",
      "Number of Lectures :  35\n",
      "Users :  ['Allen', 'Mary', 'JIm']\n",
      "Average rating :  4.5\n",
      "Number of pages :  1000\n"
     ]
    }
   ],
   "source": [
    "# inheritance\n",
    "# Create a class named Course that has instance variables title, instructor, price, lectures, users(list type), ratings, \n",
    "# avg_rating. Implement the methods __str__, new_user_enrolled, received_a_rating and show_details. \n",
    "# From the above class, inherit two classes VideoCourse and PdfCourse. \n",
    "# The class VideoCourse has instance variable length_video and PdfCourse has instance variable pages.\n",
    "class Course:\n",
    "    def __init__(self, title, instructor, lectures, price):\n",
    "        self.title = title\n",
    "        self.instructor = instructor\n",
    "        self.price = price\n",
    "        self.lectures = lectures\n",
    "        self.users = []\n",
    "        self.ratings = 0\n",
    "        self.avg_rating = 0\n",
    "        \n",
    "    def __str__(self):\n",
    "        return f'{self.title} by {self.instructor}'\n",
    "    \n",
    "    def new_user_enrolled(self, user):\n",
    "        self.users.append(user)\n",
    " \n",
    "    def received_a_rating(self, new_rating):\n",
    "        self.avg_rating = (self.avg_rating * self.ratings + new_rating)/(self.ratings + 1)\n",
    "        self.ratings += 1 \n",
    " \n",
    "    def show_details(self):\n",
    "        print('Course Title : ', self.title)\n",
    "        print('Intructor : ', self.instructor)\n",
    "        print('Price : ', self.price)\n",
    "        print('Number of Lectures : ', self.lectures)\n",
    "        print('Users : ', self.users)\n",
    "        print('Average rating : ', self.avg_rating)\n",
    " \n",
    " \n",
    "class VideoCourse(Course):\n",
    "    \n",
    "    def __init__(self,title,instructor,lectures,price,length_video):\n",
    "        super().__init__(title,instructor,lectures,price) # super() - used to refer parent class\n",
    "        self.length_video = length_video\n",
    " \n",
    "    def show_details(self):\n",
    "        super().show_details()\n",
    "        print('Video Length : ',  self.length_video)\n",
    "        \n",
    "        \n",
    "class PdfCourse(Course):\n",
    "    def __init__(self,title,instructor,lectures,price,pages):\n",
    "        super().__init__(title,instructor,lectures,price)\n",
    "        self.pages = pages\n",
    " \n",
    "    def show_details(self):\n",
    "        super().show_details()\n",
    "        print('Number of pages : ',  self.pages)\n",
    " \n",
    " \n",
    "vc = VideoCourse('Learn C++', 'Jack', 30, 50, 10)\n",
    "vc.new_user_enrolled('Allen')\n",
    "vc.new_user_enrolled('Max')\n",
    "vc.new_user_enrolled('Tom')\n",
    "vc.received_a_rating(3)\n",
    "vc.received_a_rating(5)\n",
    "vc.received_a_rating(4)\n",
    "vc.show_details()\n",
    " \n",
    "print()\n",
    " \n",
    "pc = PdfCourse('Learn Java', 'Jim', 35, 50, 1000)\n",
    "pc.new_user_enrolled('Allen')\n",
    "pc.new_user_enrolled('Mary')\n",
    "pc.new_user_enrolled('JIm')\n",
    "pc.received_a_rating(5)\n",
    "pc.received_a_rating(4)\n",
    "pc.received_a_rating(4.5)\n",
    "pc.show_details()"
   ]
  },
  {
   "cell_type": "code",
   "execution_count": 8,
   "id": "52444795",
   "metadata": {},
   "outputs": [
    {
     "name": "stdout",
     "output_type": "stream",
     "text": [
      "Can cook noodles\n",
      "\n",
      "Can cook pasta\n",
      "Can cook butter chicken\n"
     ]
    }
   ],
   "source": [
    "class Mother:\n",
    "        def cook(self):\n",
    "           print('Can cook pasta')\n",
    " \n",
    "class Father:\n",
    "        def cook(self):\n",
    "             print('Can cook noodles')\n",
    " \n",
    "class Daughter(Father, Mother):\n",
    "          pass\n",
    " \n",
    "class Son(Mother, Father):\n",
    "         def cook(self):\n",
    "             super().cook()\n",
    "             print('Can cook butter chicken') \n",
    " \n",
    "d = Daughter()  \n",
    "s = Son()\n",
    " \n",
    "d.cook()\n",
    "print()\n",
    "s.cook()\n"
   ]
  },
  {
   "cell_type": "code",
   "execution_count": 9,
   "id": "05014206",
   "metadata": {},
   "outputs": [
    {
     "name": "stdout",
     "output_type": "stream",
     "text": [
      "I am a Person\n",
      "I am a Student\n",
      "I am a Teaching Assistant\n"
     ]
    }
   ],
   "source": [
    "\n",
    "class Person:\n",
    "    def greet(self):\n",
    "        print('I am a Person')\n",
    " \n",
    "class Teacher(Person):\n",
    "    def greet(self):\n",
    "        Person.greet(self)    \n",
    "        print('I am a Teacher')\n",
    " \n",
    "class Student(Person):\n",
    "    def greet(self):\n",
    "        Person.greet(self)    \n",
    "        print('I am a Student')\n",
    " \n",
    "class TeachingAssistant(Student, Teacher):\n",
    "     def greet(self):\n",
    "         super().greet()\n",
    "         print('I am a Teaching Assistant')\n",
    "       \n",
    "x = TeachingAssistant()\n",
    "x.greet()\n"
   ]
  },
  {
   "cell_type": "code",
   "execution_count": 11,
   "id": "ef44608c",
   "metadata": {},
   "outputs": [
    {
     "name": "stdout",
     "output_type": "stream",
     "text": [
      "2675TS\n",
      "4567S\n",
      "3421T\n",
      "5749\n"
     ]
    }
   ],
   "source": [
    "class Person:\n",
    "    def __init__(self,id):\n",
    "        self.id = id\n",
    "        \n",
    "class Teacher(Person):\n",
    "    def __init__(self,id):\n",
    "        super().__init__(id)\n",
    "        self.id += 'T'\n",
    "    \n",
    "class Student(Person):\n",
    "    def __init__(self,id):\n",
    "        super().__init__(id)\n",
    "        self.id += 'S'\n",
    "   \n",
    "class TeachingAssistant(Student, Teacher):\n",
    "     def __init__(self,id):\n",
    "        super().__init__(id)\n",
    "        \n",
    "   \n",
    "x = TeachingAssistant('2675')\n",
    "print(x.id)\n",
    "y = Student('4567')\n",
    "print(y.id)\n",
    "z = Teacher('3421')\n",
    "print(z.id)\n",
    "p = Person('5749')\n",
    "print(p.id)"
   ]
  },
  {
   "cell_type": "code",
   "execution_count": null,
   "id": "c65d5e88",
   "metadata": {},
   "outputs": [],
   "source": []
  },
  {
   "cell_type": "code",
   "execution_count": null,
   "id": "82aa045c",
   "metadata": {},
   "outputs": [],
   "source": []
  }
 ],
 "metadata": {
  "kernelspec": {
   "display_name": "Python 3 (ipykernel)",
   "language": "python",
   "name": "python3"
  },
  "language_info": {
   "codemirror_mode": {
    "name": "ipython",
    "version": 3
   },
   "file_extension": ".py",
   "mimetype": "text/x-python",
   "name": "python",
   "nbconvert_exporter": "python",
   "pygments_lexer": "ipython3",
   "version": "3.11.5"
  }
 },
 "nbformat": 4,
 "nbformat_minor": 5
}
